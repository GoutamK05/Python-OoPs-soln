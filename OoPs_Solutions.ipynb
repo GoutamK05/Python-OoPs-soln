{
  "nbformat": 4,
  "nbformat_minor": 0,
  "metadata": {
    "colab": {
      "provenance": []
    },
    "kernelspec": {
      "name": "python3",
      "display_name": "Python 3"
    },
    "language_info": {
      "name": "python"
    }
  },
  "cells": [
    {
      "cell_type": "markdown",
      "source": [
        "Q1. What is Object-Oriented Programming (OOP)?"
      ],
      "metadata": {
        "id": "mE0cfLAiJcUD"
      }
    },
    {
      "cell_type": "markdown",
      "source": [
        "Ans: OOP is a programming paradigm based on the concept of \"objects,\" which can contain data (attributes) and code (methods). It helps in modularity, reusability, and better code organization."
      ],
      "metadata": {
        "id": "emcgkTKZJnWY"
      }
    },
    {
      "cell_type": "markdown",
      "source": [
        "Q2. What is a class in OOP?"
      ],
      "metadata": {
        "id": "t1uLmTofJxgs"
      }
    },
    {
      "cell_type": "markdown",
      "source": [
        "Ans: A class is a blueprint or template for creating objects. It defines attributes (variables) and behaviors (methods)"
      ],
      "metadata": {
        "id": "a6n182E3J2Iz"
      }
    },
    {
      "cell_type": "markdown",
      "source": [
        "Q3. What is an object in OOP?"
      ],
      "metadata": {
        "id": "up-ssGw1J7u-"
      }
    },
    {
      "cell_type": "markdown",
      "source": [
        "Ans: An object is an instance of a class. It represents a real-world entity with state (attributes) and behavior (methods)."
      ],
      "metadata": {
        "id": "z2YWUFpKKBOt"
      }
    },
    {
      "cell_type": "markdown",
      "source": [
        "Q4. What is the difference between abstraction and encapsulation?"
      ],
      "metadata": {
        "id": "rZJ7XcYwckrY"
      }
    },
    {
      "cell_type": "markdown",
      "source": [
        "Ans: Abstraction → Hides implementation details and shows only necessary features.\n",
        "Encapsulation → Binding data and methods together and restricting direct access using private/protected modifiers."
      ],
      "metadata": {
        "id": "gUEIwSEtcpq8"
      }
    },
    {
      "cell_type": "markdown",
      "source": [
        "Q5. What are dunder methods in Python?"
      ],
      "metadata": {
        "id": "DhWVnK2Te44H"
      }
    },
    {
      "cell_type": "markdown",
      "source": [
        "Ans: Dunder (double underscore) methods are special methods like __init__, __str__, __len__, used for operator overloading and customizing object behavior."
      ],
      "metadata": {
        "id": "3o7FKnRafEoH"
      }
    },
    {
      "cell_type": "markdown",
      "source": [
        "Q6.  Explain the concept of inheritance in OOP."
      ],
      "metadata": {
        "id": "2DY1in6OfVv_"
      }
    },
    {
      "cell_type": "markdown",
      "source": [
        "Ans: Inheritance allows a class (child) to acquire properties and methods of another class (parent). It promotes reusability."
      ],
      "metadata": {
        "id": "CtlDirXmfiPR"
      }
    },
    {
      "cell_type": "markdown",
      "source": [
        "Q7. What is polymorphism in OOP?"
      ],
      "metadata": {
        "id": "R65auAhKfrbK"
      }
    },
    {
      "cell_type": "markdown",
      "source": [
        "Ans: Polymorphism means \"many forms.\" It allows different classes to define methods with the same name but different behaviors."
      ],
      "metadata": {
        "id": "EX-L33A6f6h_"
      }
    },
    {
      "cell_type": "markdown",
      "source": [
        "Q8.  How is encapsulation achieved in Python?"
      ],
      "metadata": {
        "id": "hb-0wq4Qgxjq"
      }
    },
    {
      "cell_type": "markdown",
      "source": [
        "Ans: By defining attributes as private (__var) or protected (_var) and accessing them using getters/setters."
      ],
      "metadata": {
        "id": "XpjVsbODg3Z0"
      }
    },
    {
      "cell_type": "markdown",
      "source": [
        "Q9. What is a constructor in Python?"
      ],
      "metadata": {
        "id": "9ZL1miPYhEXD"
      }
    },
    {
      "cell_type": "markdown",
      "source": [
        "Ans: The __init__ method in Python is the constructor. It initializes object attributes when an object is created."
      ],
      "metadata": {
        "id": "6x_XL9bnhTQ2"
      }
    },
    {
      "cell_type": "markdown",
      "source": [
        "Q10. What are class and static methods in Python?"
      ],
      "metadata": {
        "id": "IxJC6egryR58"
      }
    },
    {
      "cell_type": "markdown",
      "source": [
        "Ans: Class method - Takes cls as first argument. Works with class variables.\n",
        "Static method - Does not take self or cls. Works like a normal function inside class.\n"
      ],
      "metadata": {
        "id": "nJ2iVDXDyYjL"
      }
    },
    {
      "cell_type": "markdown",
      "source": [
        "Q11. What is method overloading in Python?"
      ],
      "metadata": {
        "id": "LkPPG2M6ymjo"
      }
    },
    {
      "cell_type": "markdown",
      "source": [
        "Ans: Python doesn’t support true overloading, but we can achieve it using default arguments or *args to handle multiple argument types."
      ],
      "metadata": {
        "id": "XZmIjGkXyrQf"
      }
    },
    {
      "cell_type": "markdown",
      "source": [
        "Q12. What is method overriding in OOP?"
      ],
      "metadata": {
        "id": "bU8M_5zhywVk"
      }
    },
    {
      "cell_type": "markdown",
      "source": [
        "Ans: When a child class provides a specific implementation of a method already defined in its parent class."
      ],
      "metadata": {
        "id": "M-en3htYy0sj"
      }
    },
    {
      "cell_type": "markdown",
      "source": [
        "Q13.  What is a property decorator in Python?"
      ],
      "metadata": {
        "id": "9QgCdLkey66E"
      }
    },
    {
      "cell_type": "markdown",
      "source": [
        "Ans: @property is used to define getters in Python, allowing access like an attribute but with method functionality."
      ],
      "metadata": {
        "id": "UYMZwrAuy_qE"
      }
    },
    {
      "cell_type": "markdown",
      "source": [
        "Q14. Why is polymorphism important in OOP?"
      ],
      "metadata": {
        "id": "zgu2uOhnzFub"
      }
    },
    {
      "cell_type": "markdown",
      "source": [
        "Ans: It allows flexibility, code reusability, and easier maintenance by letting the same interface handle different types of objects."
      ],
      "metadata": {
        "id": "4N4sPY4pzKRN"
      }
    },
    {
      "cell_type": "markdown",
      "source": [
        "Q15. What is an abstract class in Python?"
      ],
      "metadata": {
        "id": "VGfgzvguzRO2"
      }
    },
    {
      "cell_type": "markdown",
      "source": [
        "Ans: A class that cannot be instantiated directly. It is defined using the abc module and must have at least one abstract method."
      ],
      "metadata": {
        "id": "Zj7EYIlHzVyG"
      }
    },
    {
      "cell_type": "markdown",
      "source": [
        "Q16.What are the advantages of OOP?"
      ],
      "metadata": {
        "id": "uPfXWxb9zZ6r"
      }
    },
    {
      "cell_type": "markdown",
      "source": [
        "Ans: Modularity,Code reusability, Easier debugging & maintenance, Encapsulation of data"
      ],
      "metadata": {
        "id": "gXJdt2lhzj7v"
      }
    },
    {
      "cell_type": "markdown",
      "source": [
        "Q17. What is the difference between a class variable and an instance variable?"
      ],
      "metadata": {
        "id": "SmoqsQkLzv9l"
      }
    },
    {
      "cell_type": "markdown",
      "source": [
        "Ans: Class variable → Shared by all instances (defined inside class).\n",
        "\n",
        "Instance variable → Unique to each object (defined inside __init__)."
      ],
      "metadata": {
        "id": "McbhaVsOz15A"
      }
    },
    {
      "cell_type": "markdown",
      "source": [
        "Q18. What is multiple inheritance in Python?"
      ],
      "metadata": {
        "id": "mHa6yAoY8rLv"
      }
    },
    {
      "cell_type": "markdown",
      "source": [
        "Ans: When a class inherits from more than one parent class. Python supports it."
      ],
      "metadata": {
        "id": "jd_oQ7_p8-EQ"
      }
    },
    {
      "cell_type": "markdown",
      "source": [
        "Q19.  Explain the purpose of ‘’__str__’ and ‘__repr__’ ‘ methods in Python."
      ],
      "metadata": {
        "id": "SXsmu7cv9HOY"
      }
    },
    {
      "cell_type": "markdown",
      "source": [
        "Ans: __str__ → Defines user-friendly string representation (print(obj)).\n",
        "\n",
        "__repr__ → Defines unambiguous representation for developers/debugging."
      ],
      "metadata": {
        "id": "rWSncTrM9TiJ"
      }
    },
    {
      "cell_type": "markdown",
      "source": [
        "Q20. What is the significance of the ‘super()’ function in Python?"
      ],
      "metadata": {
        "id": "LRWj6NQ19Zib"
      }
    },
    {
      "cell_type": "markdown",
      "source": [
        "Ans: super() is used to call methods of a parent class, usually inside constructors or overridden methods."
      ],
      "metadata": {
        "id": "kDlm2AWJ9epu"
      }
    },
    {
      "cell_type": "markdown",
      "source": [
        "Q21.  What is the significance of the __del__ method in Python?"
      ],
      "metadata": {
        "id": "aPV7eiFe9hQL"
      }
    },
    {
      "cell_type": "markdown",
      "source": [
        "Ans: __del__ is a destructor method called when an object is destroyed (garbage collected)."
      ],
      "metadata": {
        "id": "Fg3xCi_g9l71"
      }
    },
    {
      "cell_type": "markdown",
      "source": [
        "Q22. What is the difference between @staticmethod and @classmethod in Python?"
      ],
      "metadata": {
        "id": "FT13EFF59puN"
      }
    },
    {
      "cell_type": "markdown",
      "source": [
        "Ans: @staticmethod → Does not take self or cls, acts like a normal function inside class.\n",
        "\n",
        "@classmethod → Takes cls as argument, can modify class-level data."
      ],
      "metadata": {
        "id": "6-2QEvnpAuAa"
      }
    },
    {
      "cell_type": "markdown",
      "source": [
        "Q23.  How does polymorphism work in Python with inheritance?"
      ],
      "metadata": {
        "id": "h_2edsenA0St"
      }
    },
    {
      "cell_type": "markdown",
      "source": [
        "ANs: Through method overriding. A child class can redefine a method of the parent class, and Python will use the child’s version."
      ],
      "metadata": {
        "id": "eTajv32oA-bO"
      }
    },
    {
      "cell_type": "markdown",
      "source": [
        "Q24. What is method chaining in Python OOP?"
      ],
      "metadata": {
        "id": "NWg5o5ReBNoE"
      }
    },
    {
      "cell_type": "markdown",
      "source": [
        "Ans: When multiple methods are called in a single line by returning self from methods."
      ],
      "metadata": {
        "id": "lDNjoETJBVM1"
      }
    },
    {
      "cell_type": "markdown",
      "source": [
        "Q25. What is the purpose of the __call__ method in Python?"
      ],
      "metadata": {
        "id": "QuS1kH3nBc2Y"
      }
    },
    {
      "cell_type": "markdown",
      "source": [
        "Ans: It makes an object callable like a function. If defined, obj() executes obj.__call__()."
      ],
      "metadata": {
        "id": "I-9svxSLBid_"
      }
    },
    {
      "cell_type": "markdown",
      "source": [
        "**Practical** **questions**"
      ],
      "metadata": {
        "id": "ToNxsGHVBmEm"
      }
    },
    {
      "cell_type": "markdown",
      "source": [
        "Q1. Create a parent class Animal with a method speak() that prints a generic message. Create a child class Dog\n",
        "that overrides the speak() method to print \"Bark!\"."
      ],
      "metadata": {
        "id": "6Hnr8FGzBpVi"
      }
    },
    {
      "cell_type": "code",
      "source": [
        "class Animal:\n",
        "    def speak(self):\n",
        "        print(\"This is a generic animal sound.\")\n",
        "\n",
        "class Dog(Animal):\n",
        "    def speak(self):\n",
        "        print(\"Bark!\")\n",
        "\n",
        "d = Dog()\n",
        "d.speak()\n"
      ],
      "metadata": {
        "colab": {
          "base_uri": "https://localhost:8080/"
        },
        "id": "sc_YZcOABx9j",
        "outputId": "b8848c9c-203f-4453-a9ec-7761c47c754f"
      },
      "execution_count": 1,
      "outputs": [
        {
          "output_type": "stream",
          "name": "stdout",
          "text": [
            "Bark!\n"
          ]
        }
      ]
    },
    {
      "cell_type": "markdown",
      "source": [
        "Q2.  Write a program to create an abstract class Shape with a method area(). Derive classes Circle and Rectangle\n",
        "from it and implement the area() method in both."
      ],
      "metadata": {
        "id": "rUnWNpmXCFNb"
      }
    },
    {
      "cell_type": "code",
      "source": [
        "from abc import ABC, abstractmethod\n",
        "\n",
        "class Shape(ABC):\n",
        "    @abstractmethod\n",
        "    def area(self):\n",
        "        pass\n",
        "\n",
        "class Circle(Shape):\n",
        "    def __init__(self, radius):\n",
        "        self.radius = radius\n",
        "\n",
        "    def area(self):\n",
        "        return 3.14 * self.radius * self.radius\n",
        "\n",
        "class Rectangle(Shape):\n",
        "    def __init__(self, length, width):\n",
        "        self.length = length\n",
        "        self.width = width\n",
        "\n",
        "    def area(self):\n",
        "        return self.length * self.width\n",
        "\n",
        "c = Circle(5)\n",
        "r = Rectangle(4, 6)\n",
        "print(\"Circle area:\", c.area())\n",
        "print(\"Rectangle area:\", r.area())\n"
      ],
      "metadata": {
        "colab": {
          "base_uri": "https://localhost:8080/"
        },
        "id": "p7u25tmZCJMU",
        "outputId": "dba895b0-f902-48e0-d98b-4ed06b2e8fc5"
      },
      "execution_count": 2,
      "outputs": [
        {
          "output_type": "stream",
          "name": "stdout",
          "text": [
            "Circle area: 78.5\n",
            "Rectangle area: 24\n"
          ]
        }
      ]
    },
    {
      "cell_type": "markdown",
      "source": [
        "Q3.Implement a multi-level inheritance scenario where a class Vehicle has an attribute type. Derive a class Car\n",
        "and further derive a class ElectricCar that adds a battery attribute."
      ],
      "metadata": {
        "id": "-6o3CYg3CNJL"
      }
    },
    {
      "cell_type": "code",
      "source": [
        "class Vehicle:\n",
        "    def __init__(self, vehicle_type):\n",
        "        self.type = vehicle_type\n",
        "\n",
        "class Car(Vehicle):\n",
        "    def __init__(self, brand):\n",
        "        super().__init__(\"Car\")\n",
        "        self.brand = brand\n",
        "\n",
        "class ElectricCar(Car):\n",
        "    def __init__(self, brand, battery):\n",
        "        super().__init__(brand)\n",
        "        self.battery = battery\n",
        "\n",
        "ec = ElectricCar(\"Tesla\", \"100 kWh\")\n",
        "print(ec.type, ec.brand, ec.battery)\n"
      ],
      "metadata": {
        "colab": {
          "base_uri": "https://localhost:8080/"
        },
        "id": "sShYkJA3CS6d",
        "outputId": "f630fcb3-19d9-4b81-d81f-3757622d71c2"
      },
      "execution_count": 3,
      "outputs": [
        {
          "output_type": "stream",
          "name": "stdout",
          "text": [
            "Car Tesla 100 kWh\n"
          ]
        }
      ]
    },
    {
      "cell_type": "markdown",
      "source": [
        "Q4. Demonstrate polymorphism by creating a base class Bird with a method fly(). Create two derived classes\n",
        "Sparrow and Penguin that override the fly() method."
      ],
      "metadata": {
        "id": "hv99HDMiCWug"
      }
    },
    {
      "cell_type": "code",
      "source": [
        "class Bird:\n",
        "    def fly(self):\n",
        "        print(\"Birds can fly\")\n",
        "\n",
        "class Sparrow(Bird):\n",
        "    def fly(self):\n",
        "        print(\"Sparrow flies high\")\n",
        "\n",
        "class Penguin(Bird):\n",
        "    def fly(self):\n",
        "        print(\"Penguins cannot fly\")\n",
        "\n",
        "b = [Sparrow(), Penguin()]\n",
        "for bird in b:\n",
        "    bird.fly()\n"
      ],
      "metadata": {
        "colab": {
          "base_uri": "https://localhost:8080/"
        },
        "id": "yunJNuqnCbCw",
        "outputId": "e3029b9e-ad18-4508-cc95-f1dc89d08790"
      },
      "execution_count": 4,
      "outputs": [
        {
          "output_type": "stream",
          "name": "stdout",
          "text": [
            "Sparrow flies high\n",
            "Penguins cannot fly\n"
          ]
        }
      ]
    },
    {
      "cell_type": "markdown",
      "source": [
        "Q5. Write a program to demonstrate encapsulation by creating a class BankAccount with private attributes\n",
        "balance and methods to deposit, withdraw, and check balance."
      ],
      "metadata": {
        "id": "2Pj7--kPCeXR"
      }
    },
    {
      "cell_type": "code",
      "source": [
        "class BankAccount:\n",
        "    def __init__(self, balance=0):\n",
        "        self.__balance = balance\n",
        "\n",
        "    def deposit(self, amount):\n",
        "        self.__balance += amount\n",
        "\n",
        "    def withdraw(self, amount):\n",
        "        if amount <= self.__balance:\n",
        "            self.__balance -= amount\n",
        "        else:\n",
        "            print(\"Insufficient funds!\")\n",
        "\n",
        "    def get_balance(self):\n",
        "        return self.__balance\n",
        "\n",
        "acc = BankAccount(1000)\n",
        "acc.deposit(500)\n",
        "acc.withdraw(200)\n",
        "print(\"Balance:\", acc.get_balance())\n"
      ],
      "metadata": {
        "colab": {
          "base_uri": "https://localhost:8080/"
        },
        "id": "wA5U3G7jCiy8",
        "outputId": "30439875-7a2b-4fd4-b321-7ddf52f6a52e"
      },
      "execution_count": 5,
      "outputs": [
        {
          "output_type": "stream",
          "name": "stdout",
          "text": [
            "Balance: 1300\n"
          ]
        }
      ]
    },
    {
      "cell_type": "markdown",
      "source": [
        "Q6. Demonstrate runtime polymorphism using a method play() in a base class Instrument. Derive classes Guitar\n",
        "and Piano that implement their own version of play()."
      ],
      "metadata": {
        "id": "aVHNr88GCl2M"
      }
    },
    {
      "cell_type": "code",
      "source": [
        "class Instrument:\n",
        "    def play(self):\n",
        "        print(\"Playing an instrument\")\n",
        "\n",
        "class Guitar(Instrument):\n",
        "    def play(self):\n",
        "        print(\"Strumming the guitar\")\n",
        "\n",
        "class Piano(Instrument):\n",
        "    def play(self):\n",
        "        print(\"Playing the piano\")\n",
        "\n",
        "for i in [Guitar(), Piano()]:\n",
        "    i.play()\n"
      ],
      "metadata": {
        "colab": {
          "base_uri": "https://localhost:8080/"
        },
        "id": "YRusFTPDCpz2",
        "outputId": "fbf8d298-2521-4337-83fc-e60064a8d89c"
      },
      "execution_count": 6,
      "outputs": [
        {
          "output_type": "stream",
          "name": "stdout",
          "text": [
            "Strumming the guitar\n",
            "Playing the piano\n"
          ]
        }
      ]
    },
    {
      "cell_type": "markdown",
      "source": [
        "Q7.  Create a class MathOperations with a class method add_numbers() to add two numbers and a static\n",
        "method subtract_numbers() to subtract two numbers."
      ],
      "metadata": {
        "id": "vk6OCciACtlT"
      }
    },
    {
      "cell_type": "code",
      "source": [
        "class MathOperations:\n",
        "    @classmethod\n",
        "    def add_numbers(cls, a, b):\n",
        "        return a + b\n",
        "\n",
        "    @staticmethod\n",
        "    def subtract_numbers(a, b):\n",
        "        return a - b\n",
        "\n",
        "print(MathOperations.add_numbers(5, 3))\n",
        "print(MathOperations.subtract_numbers(10, 4))\n"
      ],
      "metadata": {
        "colab": {
          "base_uri": "https://localhost:8080/"
        },
        "id": "Jo363xkQCy66",
        "outputId": "723a2de8-8a61-4b33-a688-9a736c3cc928"
      },
      "execution_count": 7,
      "outputs": [
        {
          "output_type": "stream",
          "name": "stdout",
          "text": [
            "8\n",
            "6\n"
          ]
        }
      ]
    },
    {
      "cell_type": "markdown",
      "source": [
        "Q8.Implement a class Person with a class method to count the total number of persons created."
      ],
      "metadata": {
        "id": "l1G4vtHnC1u6"
      }
    },
    {
      "cell_type": "code",
      "source": [
        "class Person:\n",
        "    count = 0\n",
        "\n",
        "    def __init__(self, name):\n",
        "        self.name = name\n",
        "        Person.count += 1\n",
        "\n",
        "    @classmethod\n",
        "    def total_persons(cls):\n",
        "        return cls.count\n",
        "\n",
        "p1 = Person(\"A\")\n",
        "p2 = Person(\"B\")\n",
        "print(\"Total persons:\", Person.total_persons())\n"
      ],
      "metadata": {
        "colab": {
          "base_uri": "https://localhost:8080/"
        },
        "id": "Jn1CWZuuC6Qy",
        "outputId": "04f37c9f-74bb-45e7-9226-f23ab1d3915d"
      },
      "execution_count": 8,
      "outputs": [
        {
          "output_type": "stream",
          "name": "stdout",
          "text": [
            "Total persons: 2\n"
          ]
        }
      ]
    },
    {
      "cell_type": "markdown",
      "source": [
        "Q9.  Write a class Fraction with attributes numerator and denominator. Override the str method to display the\n",
        "fraction as \"numerator/denominator\"."
      ],
      "metadata": {
        "id": "hHpwu6McC8wc"
      }
    },
    {
      "cell_type": "code",
      "source": [
        "class Fraction:\n",
        "    def __init__(self, numerator, denominator):\n",
        "        self.numerator = numerator\n",
        "        self.denominator = denominator\n",
        "\n",
        "    def __str__(self):\n",
        "        return f\"{self.numerator}/{self.denominator}\"\n",
        "\n",
        "f = Fraction(3, 4)\n",
        "print(f)\n"
      ],
      "metadata": {
        "colab": {
          "base_uri": "https://localhost:8080/"
        },
        "id": "x9P7sK43DBGa",
        "outputId": "2eb9892a-21d9-4247-a190-58edb7133a13"
      },
      "execution_count": 9,
      "outputs": [
        {
          "output_type": "stream",
          "name": "stdout",
          "text": [
            "3/4\n"
          ]
        }
      ]
    },
    {
      "cell_type": "markdown",
      "source": [
        "Q10. Demonstrate operator overloading by creating a class Vector and overriding the add method to add two\n",
        "vectors."
      ],
      "metadata": {
        "id": "P0Y2zAdIDDmd"
      }
    },
    {
      "cell_type": "code",
      "source": [
        "class Vector:\n",
        "    def __init__(self, x, y):\n",
        "        self.x = x\n",
        "        self.y = y\n",
        "\n",
        "    def __add__(self, other):\n",
        "        return Vector(self.x + other.x, self.y + other.y)\n",
        "\n",
        "    def __str__(self):\n",
        "        return f\"Vector({self.x}, {self.y})\"\n",
        "\n",
        "v1 = Vector(2, 3)\n",
        "v2 = Vector(4, 5)\n",
        "print(v1 + v2)\n"
      ],
      "metadata": {
        "colab": {
          "base_uri": "https://localhost:8080/"
        },
        "id": "gmT9yU_CDH0r",
        "outputId": "be8e6d80-dcb7-463b-8449-7aede274639e"
      },
      "execution_count": 10,
      "outputs": [
        {
          "output_type": "stream",
          "name": "stdout",
          "text": [
            "Vector(6, 8)\n"
          ]
        }
      ]
    },
    {
      "cell_type": "markdown",
      "source": [
        "Q11. Create a class Person with attributes name and age. Add a method greet() that prints \"Hello, my name is\n",
        "{name} and I am {age} years old.\""
      ],
      "metadata": {
        "id": "XzsQ92xcDKQ_"
      }
    },
    {
      "cell_type": "code",
      "source": [
        "class Person:\n",
        "    def __init__(self, name, age):\n",
        "        self.name = name\n",
        "        self.age = age\n",
        "\n",
        "    def greet(self):\n",
        "        print(f\"Hello, my name is {self.name} and I am {self.age} years old.\")\n",
        "\n",
        "p = Person(\"Goutam\", 21)\n",
        "p.greet()\n"
      ],
      "metadata": {
        "colab": {
          "base_uri": "https://localhost:8080/"
        },
        "id": "Ne1FkqQJDN0l",
        "outputId": "42fef929-c5ca-47d1-d4c4-e093351a1327"
      },
      "execution_count": 11,
      "outputs": [
        {
          "output_type": "stream",
          "name": "stdout",
          "text": [
            "Hello, my name is Goutam and I am 21 years old.\n"
          ]
        }
      ]
    },
    {
      "cell_type": "markdown",
      "source": [
        "Q12.  Implement a class Student with attributes name and grades. Create a method average_grade() to compute\n",
        "the average of the grades."
      ],
      "metadata": {
        "id": "Ysjwd-7BDQt8"
      }
    },
    {
      "cell_type": "code",
      "source": [
        "class Student:\n",
        "    def __init__(self, name, grades):\n",
        "        self.name = name\n",
        "        self.grades = grades\n",
        "\n",
        "    def average_grade(self):\n",
        "        return sum(self.grades) / len(self.grades)\n",
        "\n",
        "s = Student(\"John\", [80, 90, 100])\n",
        "print(\"Average:\", s.average_grade())\n"
      ],
      "metadata": {
        "colab": {
          "base_uri": "https://localhost:8080/"
        },
        "id": "vMWLyKt8DUlV",
        "outputId": "fcfd615e-8ecd-4f56-8587-fd4a72515f65"
      },
      "execution_count": 12,
      "outputs": [
        {
          "output_type": "stream",
          "name": "stdout",
          "text": [
            "Average: 90.0\n"
          ]
        }
      ]
    },
    {
      "cell_type": "markdown",
      "source": [
        "Q13. Create a class Rectangle with methods set_dimensions() to set the dimensions and area() to calculate the\n",
        "area."
      ],
      "metadata": {
        "id": "1F7zQuk2DXiO"
      }
    },
    {
      "cell_type": "code",
      "source": [
        "class Rectangle:\n",
        "    def set_dimensions(self, length, width):\n",
        "        self.length = length\n",
        "        self.width = width\n",
        "\n",
        "    def area(self):\n",
        "        return self.length * self.width\n",
        "\n",
        "r = Rectangle()\n",
        "r.set_dimensions(5, 4)\n",
        "print(\"Area:\", r.area())\n"
      ],
      "metadata": {
        "colab": {
          "base_uri": "https://localhost:8080/"
        },
        "id": "BBDTPbxQDbXC",
        "outputId": "1ebcae05-19aa-4d80-8383-38cac544270f"
      },
      "execution_count": 13,
      "outputs": [
        {
          "output_type": "stream",
          "name": "stdout",
          "text": [
            "Area: 20\n"
          ]
        }
      ]
    },
    {
      "cell_type": "markdown",
      "source": [
        "Q14. Create a class Employee with a method calculate_salary() that computes the salary based on hours worked\n",
        "and hourly rate. Create a derived class Manager that adds a bonus to the salary."
      ],
      "metadata": {
        "id": "0JvobK-hDeW-"
      }
    },
    {
      "cell_type": "code",
      "source": [
        "class Employee:\n",
        "    def __init__(self, base_salary, hours, rate):\n",
        "        self.base_salary = base_salary\n",
        "        self.hours = hours\n",
        "        self.rate = rate\n",
        "\n",
        "    def calculate_salary(self):\n",
        "        return self.base_salary + (self.hours * self.rate)\n",
        "\n",
        "class Manager(Employee):\n",
        "    def __init__(self, base_salary, hours, rate, bonus):\n",
        "        super().__init__(base_salary, hours, rate)\n",
        "        self.bonus = bonus\n",
        "\n",
        "    def calculate_salary(self):\n",
        "        return super().calculate_salary() + self.bonus\n",
        "\n",
        "e = Employee(20000, 10, 100)\n",
        "m = Manager(30000, 5, 200, 5000)\n",
        "\n",
        "print(\"Employee Salary:\", e.calculate_salary())\n",
        "print(\"Manager Salary:\", m.calculate_salary())\n"
      ],
      "metadata": {
        "colab": {
          "base_uri": "https://localhost:8080/"
        },
        "id": "Z0WjPDdDDjVm",
        "outputId": "32054a0d-c323-4d76-e177-3061186e0d94"
      },
      "execution_count": 14,
      "outputs": [
        {
          "output_type": "stream",
          "name": "stdout",
          "text": [
            "Employee Salary: 21000\n",
            "Manager Salary: 36000\n"
          ]
        }
      ]
    },
    {
      "cell_type": "markdown",
      "source": [
        "Q15. Create a class Product with attributes name, price, and quantity. Implement a method total_price() that\n",
        "calculates the total price of the product."
      ],
      "metadata": {
        "id": "KFNgOrGpDmpy"
      }
    },
    {
      "cell_type": "code",
      "source": [
        "class Product:\n",
        "    def __init__(self, name, price, quantity):\n",
        "        self.name = name\n",
        "        self.price = price\n",
        "        self.quantity = quantity\n",
        "\n",
        "    def total_price(self):\n",
        "        return self.price * self.quantity\n",
        "\n",
        "p = Product(\"Laptop\", 50000, 2)\n",
        "print(\"Total Price:\", p.total_price())\n"
      ],
      "metadata": {
        "colab": {
          "base_uri": "https://localhost:8080/"
        },
        "id": "UYU18LToDq_L",
        "outputId": "a7452216-7fce-4c27-9afb-7226bd55e450"
      },
      "execution_count": 15,
      "outputs": [
        {
          "output_type": "stream",
          "name": "stdout",
          "text": [
            "Total Price: 100000\n"
          ]
        }
      ]
    },
    {
      "cell_type": "markdown",
      "source": [
        "Q16. Create a class Animal with an abstract method sound(). Create two derived classes Cow and Sheep that\n",
        "implement the sound() method."
      ],
      "metadata": {
        "id": "G5YVil3nD0yF"
      }
    },
    {
      "cell_type": "code",
      "source": [
        "from abc import ABC, abstractmethod\n",
        "\n",
        "class Animal(ABC):\n",
        "    @abstractmethod\n",
        "    def sound(self):\n",
        "        pass\n",
        "\n",
        "class Cow(Animal):\n",
        "    def sound(self):\n",
        "        return \"Moo\"\n",
        "\n",
        "class Sheep(Animal):\n",
        "    def sound(self):\n",
        "        return \"Baa\"\n",
        "\n",
        "animals = [Cow(), Sheep()]\n",
        "for a in animals:\n",
        "    print(a.sound())\n"
      ],
      "metadata": {
        "colab": {
          "base_uri": "https://localhost:8080/"
        },
        "id": "jiVN7On-D5QD",
        "outputId": "8c7d6222-aca1-4ed4-ee9c-07c77cc51d92"
      },
      "execution_count": 16,
      "outputs": [
        {
          "output_type": "stream",
          "name": "stdout",
          "text": [
            "Moo\n",
            "Baa\n"
          ]
        }
      ]
    },
    {
      "cell_type": "markdown",
      "source": [
        "Q17. Create a class Book with attributes title, author, and year_published. Add a method get_book_info() that\n",
        "returns a formatted string with the book's details."
      ],
      "metadata": {
        "id": "FzTqdUhyD8lg"
      }
    },
    {
      "cell_type": "code",
      "source": [
        "class Book:\n",
        "    def __init__(self, title, author, year_published):\n",
        "        self.title = title\n",
        "        self.author = author\n",
        "        self.year_published = year_published\n",
        "\n",
        "    def get_book_info(self):\n",
        "        return f\"'{self.title}' by {self.author}, published in {self.year_published}\"\n",
        "\n",
        "b = Book(\"Python OOP\", \"Guido van Rossum\", 2023)\n",
        "print(b.get_book_info())\n"
      ],
      "metadata": {
        "colab": {
          "base_uri": "https://localhost:8080/"
        },
        "id": "-C-gzOVgEAHH",
        "outputId": "66493bca-5945-4fad-d2a5-a6346359ceb7"
      },
      "execution_count": 17,
      "outputs": [
        {
          "output_type": "stream",
          "name": "stdout",
          "text": [
            "'Python OOP' by Guido van Rossum, published in 2023\n"
          ]
        }
      ]
    },
    {
      "cell_type": "markdown",
      "source": [
        "Q18.Create a class House with attributes address and price. Create a derived class Mansion that adds an\n",
        "attribute number_of_rooms."
      ],
      "metadata": {
        "id": "9W5HPj9xECgF"
      }
    },
    {
      "cell_type": "code",
      "source": [
        "class Book:\n",
        "    def __init__(self, title, author, year_published):\n",
        "        self.title = title\n",
        "        self.author = author\n",
        "        self.year_published = year_published\n",
        "\n",
        "    def get_book_info(self):\n",
        "        return f\"'{self.title}' by {self.author}, published in {self.year_published}\"\n",
        "\n",
        "b = Book(\"Python OOP\", \"Guido van Rossum\", 2023)\n",
        "print(b.get_book_info())\n"
      ],
      "metadata": {
        "colab": {
          "base_uri": "https://localhost:8080/"
        },
        "id": "px8tgPQyEGIV",
        "outputId": "7676a93e-4db5-4a81-abe1-ef613a4f1e21"
      },
      "execution_count": 18,
      "outputs": [
        {
          "output_type": "stream",
          "name": "stdout",
          "text": [
            "'Python OOP' by Guido van Rossum, published in 2023\n"
          ]
        }
      ]
    }
  ]
}